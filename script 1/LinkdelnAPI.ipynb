{
 "cells": [
  {
   "cell_type": "code",
   "execution_count": null,
   "id": "efcc0cc2",
   "metadata": {},
   "outputs": [],
   "source": [
    "import csv\n",
    "import requests\n",
    "\n",
    "def fetch_profile_data(api_endpoint, linkedin_profile_url, headers):\n",
    "    response = requests.get(api_endpoint,\n",
    "                            params={'url': linkedin_profile_url, 'skills': 'include'},\n",
    "                            headers=headers)\n",
    "    return response.json()\n",
    "\n",
    "def save_to_csv(profile_data, csv_file_name):\n",
    "   \n",
    "    fields = ['first_name', 'last_name', 'headline', 'follower_count', 'country_full_name']\n",
    "\n",
    "   \n",
    "    with open(csv_file_name, mode='w', newline='', encoding='utf-8') as csv_file:\n",
    "    \n",
    "        writer = csv.DictWriter(csv_file, fieldnames=fields)\n",
    "\n",
    "    \n",
    "        writer.writeheader()\n",
    "\n",
    "        for profile in profile_data:\n",
    "            writer.writerow({'first_name': profile['first_name'],\n",
    "                             'last_name': profile['last_name'],\n",
    "                             'headline': profile['headline'],\n",
    "                             'follower_count': profile['follower_count'],\n",
    "                             'country_full_name': profile['country_full_name']})\n",
    "\n",
    "    print(f\"Profile data saved successfully to {csv_file_name}\")\n",
    "\n",
    "def main():\n",
    "    api_endpoint = ' '\n",
    "    api_key = ' '\n",
    "    headers = {'Authorization': 'Bearer ' + api_key}\n",
    "    \n",
    "   \n",
    "    users = [\n",
    "        {'first_name': 'Nidhi', 'last_name': 'Shetty'},\n",
    "        {'first_name': ' ', 'last_name': ' '}\n",
    "       \n",
    "    ]\n",
    "\n",
    "    profile_data = []\n",
    "    for user in users:\n",
    "        full_name = f\"{user['first_name']} {user['last_name']}\"\n",
    "        linkedin_profile_url = f\"https://www.linkedin.com/in/{user['first_name'].lower()}-{user['last_name'].lower()}/\"\n",
    "        profile_data.append(fetch_profile_data(api_endpoint, linkedin_profile_url, headers))\n",
    "\n",
    "    csv_file_name = 'linkedin_pr.csv'\n",
    "    save_to_csv(profile_data, csv_file_name)\n",
    "\n",
    "if __name__ == \"__main__\":\n",
    "    main()"
   ]
  }
 ],
 "metadata": {
  "kernelspec": {
   "display_name": "Python 3 (ipykernel)",
   "language": "python",
   "name": "python3"
  },
  "language_info": {
   "codemirror_mode": {
    "name": "ipython",
    "version": 3
   },
   "file_extension": ".py",
   "mimetype": "text/x-python",
   "name": "python",
   "nbconvert_exporter": "python",
   "pygments_lexer": "ipython3",
   "version": "3.11.5"
  }
 },
 "nbformat": 4,
 "nbformat_minor": 5
}
