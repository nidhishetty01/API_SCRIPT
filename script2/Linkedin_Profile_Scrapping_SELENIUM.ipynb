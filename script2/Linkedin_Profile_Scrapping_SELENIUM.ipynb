{
 "cells": [
  {
   "cell_type": "code",
   "execution_count": 104,
   "id": "f5d9ee8b",
   "metadata": {},
   "outputs": [],
   "source": [
    "import csv\n",
    "from selenium import webdriver\n",
    "from selenium.webdriver.common.by import By\n",
    "from bs4 import BeautifulSoup\n",
    "import time"
   ]
  },
  {
   "cell_type": "code",
   "execution_count": 105,
   "id": "c1c2ae60",
   "metadata": {},
   "outputs": [],
   "source": [
    "from selenium.webdriver.chrome.service import Service"
   ]
  },
  {
   "cell_type": "code",
   "execution_count": 106,
   "id": "4bfc0b29",
   "metadata": {},
   "outputs": [],
   "source": [
    "s = Service('chromedriver.exe')"
   ]
  },
  {
   "cell_type": "code",
   "execution_count": 107,
   "id": "1eac131e",
   "metadata": {},
   "outputs": [],
   "source": [
    "driver = webdriver.Chrome(service=s)"
   ]
  },
  {
   "cell_type": "code",
   "execution_count": 108,
   "id": "8ac134ab",
   "metadata": {},
   "outputs": [],
   "source": [
    "driver.get(\"https://linkedin.com/uas/login\")"
   ]
  },
  {
   "cell_type": "code",
   "execution_count": 109,
   "id": "8d53c193",
   "metadata": {},
   "outputs": [],
   "source": [
    "time.sleep(5)"
   ]
  },
  {
   "cell_type": "code",
   "execution_count": 110,
   "id": "3df26154",
   "metadata": {},
   "outputs": [],
   "source": [
    "username = driver.find_element(By.ID, \"username\")\n",
    "username.send_keys(\"nidhishetty11102@gmail.com\") "
   ]
  },
  {
   "cell_type": "code",
   "execution_count": 111,
   "id": "0453ad07",
   "metadata": {},
   "outputs": [],
   "source": [
    "pword = driver.find_element(By.ID, \"password\")\n",
    "pword.send_keys(\"Nidhi@11102\") "
   ]
  },
  {
   "cell_type": "code",
   "execution_count": 112,
   "id": "a40af0e1",
   "metadata": {},
   "outputs": [],
   "source": [
    "driver.find_element(By.XPATH, \"//button[@type='submit']\").click()"
   ]
  },
  {
   "cell_type": "code",
   "execution_count": 124,
   "id": "051d01e1",
   "metadata": {},
   "outputs": [
    {
     "name": "stdout",
     "output_type": "stream",
     "text": [
      "Data saved to Linkedin_Prof.csv\n"
     ]
    }
   ],
   "source": [
    "profile_urls = [\n",
    "    'https://www.linkedin.com/in/prachi-mistry-b42361191/',\n",
    "    'https://www.linkedin.com/in/lohitya-samala/',\n",
    "    'https://www.linkedin.com/in/greeshma-acharya-8b8705165/',\n",
    "    'https://www.linkedin.com/in/divya-manoj-jha/',\n",
    "]\n",
    "\n",
    "# Open a CSV file for writing the extracted data\n",
    "with open('Linkedin_prof.csv', 'w', newline='', encoding='utf-8') as csvfile:\n",
    "    writer = csv.writer(csvfile)\n",
    "    writer.writerow(['Name', 'Location', 'Headings', 'Followers'])\n",
    "\n",
    "    # Visit each profile URL and extract profile information\n",
    "    for profile_url in profile_urls:\n",
    "        driver.get(profile_url)\n",
    "        soup = BeautifulSoup(driver.page_source, 'html.parser')\n",
    "\n",
    "        # Extract profile information\n",
    "        name_element = soup.find('h1', class_='text-heading-xlarge inline t-24 v-align-middle break-words')\n",
    "        name = name_element.text.strip() if name_element else ''\n",
    "\n",
    "        place_element = soup.find('span', class_='text-body-small inline t-black--light break-words')\n",
    "        place = place_element.text.strip() if place_element else ''\n",
    "\n",
    "        headings = soup.find('div', class_='text-body-medium break-words')\n",
    "        heading = headings.text.strip() if headings else ''\n",
    "        \n",
    "        follower_element = soup.find('span', class_='t-bold')\n",
    "        follower = follower_element.text.strip() if follower_element else ''\n",
    "\n",
    "        # Write the extracted information to the CSV file\n",
    "        writer.writerow([name,place,heading, follower])\n",
    "\n",
    "# Close the WebDriver\n",
    "driver.quit()\n",
    "\n",
    "print(\"Data saved to Linkedin_Prof.csv\")"
   ]
  },
  {
   "cell_type": "code",
   "execution_count": null,
   "id": "6c30b7f3",
   "metadata": {},
   "outputs": [],
   "source": []
  },
  {
   "cell_type": "code",
   "execution_count": null,
   "id": "a4626867",
   "metadata": {},
   "outputs": [],
   "source": []
  }
 ],
 "metadata": {
  "kernelspec": {
   "display_name": "Python 3 (ipykernel)",
   "language": "python",
   "name": "python3"
  },
  "language_info": {
   "codemirror_mode": {
    "name": "ipython",
    "version": 3
   },
   "file_extension": ".py",
   "mimetype": "text/x-python",
   "name": "python",
   "nbconvert_exporter": "python",
   "pygments_lexer": "ipython3",
   "version": "3.11.5"
  }
 },
 "nbformat": 4,
 "nbformat_minor": 5
}
